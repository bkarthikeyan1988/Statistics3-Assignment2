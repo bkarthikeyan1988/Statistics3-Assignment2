{
 "cells": [
  {
   "cell_type": "markdown",
   "metadata": {},
   "source": [
    "In one state, 52% of the voters are Republicans, and 48% are Democrats. In a second state, 47% of the voters are Republicans, and 53% are Democrats. Suppose a simple random sample of 100 voters are surveyed from each state.\n",
    "\n",
    "What is the probability that the survey will show a greater percentage of Republican voters in the second state than in the first state?\n",
    "\n",
    "### Solution\n",
    "Let \n",
    "P1 = the proportion of Republican voters in the first state,\n",
    "P2 = the proportion of Republican voters in the second state, \n",
    "\n",
    "p1 = the proportion of Republican voters in the sample from the first state, \n",
    "p2 = the proportion of Republican voters in the sample from the second state. \n",
    "\n",
    "The number of voters sampled from the first state (n1) = 100, and the number of voters sampled from the second state (n2) = 100.\n",
    "\n",
    "Make sure the samples from each population are big enough to model differences with a normal distribution. \n",
    "n1P1 = 100 * 0.52 = 52, n1(1 - P1) = 100 * 0.48 = 48, \n",
    "\n",
    "n2P2 = 100 * 0.47 = 47, and n2(1 - P2) = 100 * 0.53 = 53 \n",
    "\n",
    "each are greater than 10, the sample size is large enough.\n",
    "\n",
    "Find the mean of the difference in sample proportions: E(p1 - p2) = P1 - P2 = 0.52 - 0.47 = 0.05.\n",
    "\n",
    "Find the standard deviation of the difference:\n",
    "\n",
    "σd = sqrt{ [ P1(1 - P1) / n1 ] + [ P2(1 - P2) / n2 ] }\n",
    "\n",
    "σd = sqrt{ [ (0.52)(0.48) / 100 ] + [ (0.47)(0.53) / 100 ] }\n",
    "\n",
    "σd = sqrt (0.002496 + 0.002491) = sqrt(0.004987) = 0.0706\n",
    "\n",
    "Find the probability. This problem requires us to find the probability that p1 is less than p2. This is equivalent to finding the probability that p1 - p2 is less than zero. To find this probability, we need to transform the random variable (p1 - p2) into a z-score. \n",
    "\n",
    "That transformation appears below.\n",
    "\n",
    "zp1 - p2 = (x - μp1 - p2) / σd = = (0 - 0.05)/0.0706 = -0.7082\n",
    "\n",
    "Using Normal Distribution Calculator, we find \n",
    "\n",
    "P(z <=0.7082) = 0.24\n",
    "\n",
    "the probability of a z-score being -0.7082 or less is 0.24\n",
    "\n",
    "Therefore, the probability that the survey will show a greater percentage of Republican voters in the second state than in the first state is 0.24."
   ]
  },
  {
   "cell_type": "code",
   "execution_count": 30,
   "metadata": {},
   "outputs": [],
   "source": [
    "import math\n",
    "import scipy.stats as st\n",
    "\n",
    "# For State 1 Republican Voters 52%\n",
    "P1 = 0.52\n",
    "\n",
    "# For Stare 2 Republican Voters 48%\n",
    "P2 = 0.47\n"
   ]
  },
  {
   "cell_type": "code",
   "execution_count": 20,
   "metadata": {},
   "outputs": [
    {
     "data": {
      "text/plain": [
       "52.0"
      ]
     },
     "metadata": {},
     "output_type": "display_data"
    }
   ],
   "source": [
    "# The number of voters sampled from the first state (n1) = 100, \n",
    "# The number of voters sampled from the second state (n2) = 100.\n",
    "\n",
    "n1 = 100\n",
    "n2 = 100\n",
    "\n",
    "n1P1 = n1 * P1\n",
    "display(n1P1)"
   ]
  },
  {
   "cell_type": "code",
   "execution_count": 21,
   "metadata": {},
   "outputs": [
    {
     "data": {
      "text/plain": [
       "48.0"
      ]
     },
     "metadata": {},
     "output_type": "display_data"
    }
   ],
   "source": [
    "# n1negP1 = n1(1 - P1)\n",
    "n1negP1 = n1 * (1 - P1)\n",
    "display(n1negP1)"
   ]
  },
  {
   "cell_type": "code",
   "execution_count": 22,
   "metadata": {},
   "outputs": [
    {
     "data": {
      "text/plain": [
       "47.0"
      ]
     },
     "metadata": {},
     "output_type": "display_data"
    }
   ],
   "source": [
    "n2P2 = n2 * P2 \n",
    "display(n2P2)"
   ]
  },
  {
   "cell_type": "code",
   "execution_count": 23,
   "metadata": {},
   "outputs": [
    {
     "data": {
      "text/plain": [
       "53.0"
      ]
     },
     "metadata": {},
     "output_type": "display_data"
    }
   ],
   "source": [
    "#n2negP2 = n2(1 - P2)\n",
    "n2negP2 = n2 * (1 - P2)\n",
    "display(n2negP2)"
   ]
  },
  {
   "cell_type": "code",
   "execution_count": 24,
   "metadata": {},
   "outputs": [
    {
     "data": {
      "text/plain": [
       "0.050000000000000044"
      ]
     },
     "metadata": {},
     "output_type": "display_data"
    }
   ],
   "source": [
    "# Find the mean of the difference in sample proportions: E(p1 - p2) => Ep1p2 = P1 - P2 = 0.52 - 0.47 = 0.05. \n",
    "Ep1p2 = P1 - P2\n",
    "display(Ep1p2)"
   ]
  },
  {
   "cell_type": "code",
   "execution_count": 25,
   "metadata": {},
   "outputs": [
    {
     "data": {
      "text/plain": [
       "0.004987"
      ]
     },
     "metadata": {},
     "output_type": "display_data"
    }
   ],
   "source": [
    "stdValues = (P1 * (1 - P1) / n1) + ( P2 * (1 - P2) / n2 )\n",
    "display(stdValues)"
   ]
  },
  {
   "cell_type": "code",
   "execution_count": 27,
   "metadata": {},
   "outputs": [
    {
     "data": {
      "text/plain": [
       "0.07061869440877536"
      ]
     },
     "metadata": {},
     "output_type": "display_data"
    }
   ],
   "source": [
    "# Standard Deviation σd = stdDeviation\n",
    "stdDeviation = math.sqrt(stdValues)\n",
    "display(stdDeviation)"
   ]
  },
  {
   "cell_type": "code",
   "execution_count": 28,
   "metadata": {},
   "outputs": [
    {
     "data": {
      "text/plain": [
       "-0.7080278164104213"
      ]
     },
     "metadata": {},
     "output_type": "display_data"
    }
   ],
   "source": [
    "\n",
    "# Transformation appears below.\n",
    "x = 0\n",
    "\n",
    "# zp = zp1 - p2 = (x - μp1 - p2) / σd = = (0 - 0.05)/0.0706 = -0.7082\n",
    "zp = (x - Ep1p2) / stdDeviation\n",
    "display(zp)"
   ]
  },
  {
   "cell_type": "code",
   "execution_count": 31,
   "metadata": {},
   "outputs": [
    {
     "data": {
      "text/plain": [
       "0.23946399182220013"
      ]
     },
     "execution_count": 31,
     "metadata": {},
     "output_type": "execute_result"
    }
   ],
   "source": [
    "# Using Normal Distribution Calculator, we find P(z <=0.7082) = 0.24 the probability of a z-score being -0.7082 or less is 0.24\n",
    "\n",
    "st.norm.cdf(zp)"
   ]
  },
  {
   "cell_type": "markdown",
   "metadata": {},
   "source": [
    "### __ Therefore, the probability that the survey will show a greater percentage of Republican voters in the second state than in the first state is 0.24. __"
   ]
  },
  {
   "cell_type": "code",
   "execution_count": null,
   "metadata": {},
   "outputs": [],
   "source": []
  }
 ],
 "metadata": {
  "kernelspec": {
   "display_name": "Python 3",
   "language": "python",
   "name": "python3"
  },
  "language_info": {
   "codemirror_mode": {
    "name": "ipython",
    "version": 3
   },
   "file_extension": ".py",
   "mimetype": "text/x-python",
   "name": "python",
   "nbconvert_exporter": "python",
   "pygments_lexer": "ipython3",
   "version": "3.6.4"
  }
 },
 "nbformat": 4,
 "nbformat_minor": 2
}
